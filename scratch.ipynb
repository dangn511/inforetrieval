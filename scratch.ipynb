{
 "cells": [
  {
   "cell_type": "code",
   "execution_count": 3,
   "id": "0bb10072",
   "metadata": {
    "scrolled": true,
    "tags": []
   },
   "outputs": [
    {
     "name": "stdout",
     "output_type": "stream",
     "text": [
      "7426\n",
      "7426\n"
     ]
    }
   ],
   "source": [
    "import json\n",
    "\n",
    "# with open('master_list_8k.json', 'r') as fp:\n",
    "#     data = json.load(fp)\n",
    "\n",
    "    \n",
    "ids = []\n",
    "for i in data:\n",
    "    if data[i]['job_id'] not in ids:\n",
    "        ids.append(data[i]['job_id'])\n",
    "    else:\n",
    "        print(data[i]['job_id'])\n",
    "\n",
    "print(len(ids))\n",
    "print(len(data))\n"
   ]
  },
  {
   "cell_type": "code",
   "execution_count": 4,
   "id": "fc4a85c9",
   "metadata": {},
   "outputs": [
    {
     "name": "stdout",
     "output_type": "stream",
     "text": [
      "False\n"
     ]
    }
   ],
   "source": [
    "a = \"\"\n",
    "print(a == None)"
   ]
  },
  {
   "cell_type": "code",
   "execution_count": 10,
   "id": "9bc50b59",
   "metadata": {},
   "outputs": [
    {
     "name": "stdout",
     "output_type": "stream",
     "text": [
      "saved\n"
     ]
    }
   ],
   "source": [
    "ids = []\n",
    "keys = [i for i in data]\n",
    "for i in keys:\n",
    "    if data[i]['job_id'] not in ids:\n",
    "        ids.append(data[i]['job_id'])\n",
    "    else:\n",
    "        data.pop(i)\n",
    "        \n",
    "with open('master_list_cleaned.json', 'w') as fp:\n",
    "    json.dump(data, fp)\n",
    "    print('saved')"
   ]
  },
  {
   "cell_type": "code",
   "execution_count": 2,
   "id": "32a917af",
   "metadata": {},
   "outputs": [],
   "source": [
    "ids = []\n",
    "keys = [i for i in data]\n",
    "for i in keys:\n",
    "    if data[i]['job_id'] not in ids:\n",
    "        ids.append(data[i]['job_id'])\n",
    "    else:\n",
    "        data.pop(i)"
   ]
  },
  {
   "cell_type": "code",
   "execution_count": 4,
   "id": "55e95245",
   "metadata": {},
   "outputs": [
    {
     "name": "stdout",
     "output_type": "stream",
     "text": [
      "saved\n"
     ]
    }
   ],
   "source": [
    "with open('master_list_8k_cleaned.json', 'w') as fp:\n",
    "    json.dump(data, fp)\n",
    "    print('saved')"
   ]
  },
  {
   "cell_type": "code",
   "execution_count": null,
   "id": "ed2ec164",
   "metadata": {},
   "outputs": [],
   "source": []
  }
 ],
 "metadata": {
  "kernelspec": {
   "display_name": "Python 3",
   "language": "python",
   "name": "python3"
  },
  "language_info": {
   "codemirror_mode": {
    "name": "ipython",
    "version": 3
   },
   "file_extension": ".py",
   "mimetype": "text/x-python",
   "name": "python",
   "nbconvert_exporter": "python",
   "pygments_lexer": "ipython3",
   "version": "3.7.9"
  }
 },
 "nbformat": 4,
 "nbformat_minor": 5
}
