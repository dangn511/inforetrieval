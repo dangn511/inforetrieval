{
 "cells": [
  {
   "cell_type": "code",
   "execution_count": 6,
   "metadata": {},
   "outputs": [
    {
     "name": "stderr",
     "output_type": "stream",
     "text": [
      "[nltk_data] Downloading package punkt to\n",
      "[nltk_data]     C:\\Users\\user\\AppData\\Roaming\\nltk_data...\n",
      "[nltk_data]   Unzipping tokenizers\\punkt.zip.\n"
     ]
    },
    {
     "data": {
      "text/plain": [
       "True"
      ]
     },
     "execution_count": 6,
     "metadata": {},
     "output_type": "execute_result"
    }
   ],
   "source": [
    "import nltk\n",
    "\n",
    "nltk.download('punkt')"
   ]
  },
  {
   "cell_type": "code",
   "execution_count": 9,
   "metadata": {},
   "outputs": [
    {
     "name": "stdout",
     "output_type": "stream",
     "text": [
      "Requirement already satisfied: rank_bm25 in c:\\python39\\lib\\site-packages (0.2.1)\n",
      "Requirement already satisfied: numpy in c:\\python39\\lib\\site-packages (from rank_bm25) (1.20.1)\n"
     ]
    },
    {
     "name": "stderr",
     "output_type": "stream",
     "text": [
      "WARNING: Ignoring invalid distribution -hardet (c:\\python39\\lib\\site-packages)\n",
      "WARNING: Ignoring invalid distribution -hardet (c:\\python39\\lib\\site-packages)\n",
      "WARNING: Ignoring invalid distribution -hardet (c:\\python39\\lib\\site-packages)\n",
      "WARNING: Ignoring invalid distribution -hardet (c:\\python39\\lib\\site-packages)\n",
      "WARNING: Ignoring invalid distribution -hardet (c:\\python39\\lib\\site-packages)\n",
      "WARNING: Ignoring invalid distribution -hardet (c:\\python39\\lib\\site-packages)\n",
      "WARNING: You are using pip version 21.1.3; however, version 21.2.3 is available.\n",
      "You should consider upgrading via the 'c:\\python39\\python.exe -m pip install --upgrade pip' command.\n",
      "WARNING: Ignoring invalid distribution -hardet (c:\\python39\\lib\\site-packages)\n",
      "WARNING: Ignoring invalid distribution -hardet (c:\\python39\\lib\\site-packages)\n",
      "WARNING: Ignoring invalid distribution -hardet (c:\\python39\\lib\\site-packages)\n",
      "WARNING: Ignoring invalid distribution -hardet (c:\\python39\\lib\\site-packages)\n",
      "WARNING: Ignoring invalid distribution -hardet (c:\\python39\\lib\\site-packages)\n",
      "WARNING: Ignoring invalid distribution -hardet (c:\\python39\\lib\\site-packages)\n",
      "WARNING: You are using pip version 21.1.3; however, version 21.2.3 is available.\n",
      "You should consider upgrading via the 'c:\\python39\\python.exe -m pip install --upgrade pip' command.\n"
     ]
    },
    {
     "name": "stdout",
     "output_type": "stream",
     "text": [
      "Requirement already satisfied: nltk in c:\\python39\\lib\\site-packages (3.6.2)\n",
      "Requirement already satisfied: click in c:\\python39\\lib\\site-packages (from nltk) (8.0.1)\n",
      "Requirement already satisfied: joblib in c:\\python39\\lib\\site-packages (from nltk) (1.0.1)\n",
      "Requirement already satisfied: tqdm in c:\\python39\\lib\\site-packages (from nltk) (4.60.0)\n",
      "Requirement already satisfied: regex in c:\\python39\\lib\\site-packages (from nltk) (2021.8.3)\n",
      "Requirement already satisfied: colorama in c:\\python39\\lib\\site-packages (from click->nltk) (0.4.4)\n",
      "Collecting gensim==3.8.3\n",
      "  Downloading gensim-3.8.3.tar.gz (23.4 MB)\n",
      "Requirement already satisfied: numpy>=1.11.3 in c:\\python39\\lib\\site-packages (from gensim==3.8.3) (1.20.1)\n",
      "Requirement already satisfied: scipy>=0.18.1 in c:\\python39\\lib\\site-packages (from gensim==3.8.3) (1.6.3)\n",
      "Requirement already satisfied: six>=1.5.0 in c:\\python39\\lib\\site-packages (from gensim==3.8.3) (1.15.0)\n",
      "Collecting smart_open>=1.8.1\n",
      "  Downloading smart_open-5.1.0-py3-none-any.whl (57 kB)\n",
      "Using legacy 'setup.py install' for gensim, since package 'wheel' is not installed.\n",
      "Installing collected packages: smart-open, gensim\n",
      "    Running setup.py install for gensim: started\n",
      "    Running setup.py install for gensim: finished with status 'done'\n",
      "Successfully installed gensim-3.8.3 smart-open-5.1.0\n"
     ]
    },
    {
     "name": "stderr",
     "output_type": "stream",
     "text": [
      "WARNING: Ignoring invalid distribution -hardet (c:\\python39\\lib\\site-packages)\n",
      "WARNING: Ignoring invalid distribution -hardet (c:\\python39\\lib\\site-packages)\n",
      "WARNING: Ignoring invalid distribution -hardet (c:\\python39\\lib\\site-packages)\n",
      "WARNING: Ignoring invalid distribution -hardet (c:\\python39\\lib\\site-packages)\n",
      "WARNING: Ignoring invalid distribution -hardet (c:\\python39\\lib\\site-packages)\n",
      "WARNING: Ignoring invalid distribution -hardet (c:\\python39\\lib\\site-packages)\n",
      "WARNING: Ignoring invalid distribution -hardet (c:\\python39\\lib\\site-packages)\n",
      "WARNING: Ignoring invalid distribution -hardet (c:\\python39\\lib\\site-packages)\n",
      "WARNING: You are using pip version 21.1.3; however, version 21.2.3 is available.\n",
      "You should consider upgrading via the 'c:\\python39\\python.exe -m pip install --upgrade pip' command.\n"
     ]
    }
   ],
   "source": [
    "!pip3 install --upgrade rank_bm25\n",
    "!pip3 install --upgrade nltk\n",
    "!pip3 install gensim==3.8.3"
   ]
  },
  {
   "cell_type": "code",
   "execution_count": 10,
   "metadata": {},
   "outputs": [],
   "source": [
    "from nltk.tokenize import word_tokenize\n",
    "import pickle, json\n",
    "import pandas as pd\n",
    "\n",
    "from rank_bm25 import *\n",
    "from gensim.parsing.preprocessing import STOPWORDS\n",
    "from gensim.parsing.preprocessing import remove_stopwords\n",
    "import re"
   ]
  },
  {
   "cell_type": "code",
   "execution_count": 11,
   "metadata": {},
   "outputs": [],
   "source": [
    "def stopwords_remove(lst):\n",
    "    lst1=list()\n",
    "    for str in lst:\n",
    "        text_tokens = word_tokenize(str)\n",
    "        tokens_without_sw = [word for word in text_tokens if not word in all_stopwords_gensim]\n",
    "        str_t = \" \".join(tokens_without_sw)\n",
    "        lst1.append(str_t)\n",
    " \n",
    "    return lst1"
   ]
  },
  {
   "cell_type": "code",
   "execution_count": 12,
   "metadata": {},
   "outputs": [],
   "source": [
    "def spl_chars_removal(lst):\n",
    "    lst1=list()\n",
    "    for element in lst:\n",
    "        str= \"\"\n",
    "        str = re.sub(\"[^A-Za-z0-9]+\",\" \",element)\n",
    "        lst1.append(str)\n",
    "    return lst1"
   ]
  },
  {
   "cell_type": "code",
   "execution_count": 13,
   "metadata": {},
   "outputs": [],
   "source": [
    "def remove_non_ascii(sentence):\n",
    "    temp_str = sentence.encode('ascii', errors='ignore').decode(\"utf-8\")\n",
    "    result = \" \".join(temp_str.split())\n",
    "    return result"
   ]
  },
  {
   "cell_type": "code",
   "execution_count": 14,
   "metadata": {},
   "outputs": [
    {
     "name": "stdout",
     "output_type": "stream",
     "text": [
      "charl\n",
      "iv,\n",
      "king\n",
      "of\n",
      "bohemia\n",
      "and\n",
      "holi\n",
      "roman\n",
      "emperor,\n",
      "had\n",
      "a\n",
      "long\n",
      "and\n",
      "success\n",
      "reign.\n",
      "the\n",
      "empir\n",
      "he\n",
      "rule\n",
      "from\n",
      "pragu\n",
      "expanded,\n",
      "and\n",
      "hi\n",
      "subject\n",
      "live\n",
      "in\n",
      "peac\n",
      "and\n",
      "prosperity.\n"
     ]
    }
   ],
   "source": [
    "import nltk\n",
    "from nltk.stem import PorterStemmer\n",
    "ps = PorterStemmer() \n",
    "sentence = \"Charles IV, King of Bohemia and Holy Roman Emperor, had a long and successful reign. The Empire he ruled from Prague expanded, and his subjects lived in peace and prosperity.\"\n",
    "for word in sentence.split():\n",
    "    print(ps.stem(word))\n",
    "    \n",
    "def sentence_stemmer(sentence):\n",
    "    return [ps.stem(word) for word in sentence]\n"
   ]
  },
  {
   "cell_type": "code",
   "execution_count": 15,
   "metadata": {},
   "outputs": [
    {
     "name": "stdout",
     "output_type": "stream",
     "text": [
      "7426\n",
      "['job', 'descript', 'the', 'success', 'candid', 'attach', 'branch', 'offic', 'perform', 'follow', 'duti', 'administr', 'assistant ', 'describ', 'duties ', 'provid', 'gener', 'administr', 'support', 'office ', 'data', 'entri', 'file', 'document', ' hardcopi', 'electronic ', 'prepar', 'invoices ', 'correspond', 'support', 'documents ', 'handl', 'daili', 'routin', 'invoic', 'relat', 'duties ', 'commun', 'custom', 'work', 'partners ', 'undertak', 'duti', 'assign', 'superior', 'time', 'time ', 'e', 'xpectations ', 'meticul', 'abl', 'multi task', 'profici', 'ms', 'offic', 'skill', 'basic', 'use', 'sap', 'system ', ' don t', 'worri', 'guid', 'you ', 'possess', 'good', 'interperson', 'commun', 'skill', ' we', 'need', 'happi', 'people ', 'exhibit', 'good', 'work', 'attitud', 'team ori', 'spirit', 'career', 'level ', 'junior', 'execut', 'qualification ', 'profession', 'certificate nitec ', 'diploma ', 'advanced higher gradu', 'diploma', 'year', 'experience ', '1 2', 'year', 'job', 'type ', 'full time ', '5', 'day', 'work', 'week ', 'job', 'specializations ', 'admin human', 'resourc', ' ', 'clerical administr', 'support']\n",
      "saved\n"
     ]
    }
   ],
   "source": [
    "with open('master_list_relabeled.json', 'r') as fp:\n",
    "    master_list = json.load(fp)\n",
    "    \n",
    "job_desc_docs = []\n",
    "for i in master_list:\n",
    "    job_desc_docs.append(master_list[i]['job_description'])\n",
    "\n",
    "print(len(job_desc_docs))\n",
    "job_desc_docs_raw = job_desc_docs\n",
    "\n",
    "job_desc_docs = [remove_stopwords(i).split() for i in job_desc_docs]\n",
    "job_desc_docs = [spl_chars_removal(i) for i in job_desc_docs]\n",
    "job_desc_docs_stemmed = [sentence_stemmer(i) for i in job_desc_docs]\n",
    "print(job_desc_docs_stemmed[1])\n",
    "\n",
    "with open('job_desc_tokenized.pickle', 'wb') as handle:\n",
    "    pickle.dump(job_desc_docs_stemmed, handle, protocol=pickle.HIGHEST_PROTOCOL)\n",
    "    print(\"saved\")"
   ]
  },
  {
   "cell_type": "code",
   "execution_count": 18,
   "metadata": {},
   "outputs": [
    {
     "name": "stdout",
     "output_type": "stream",
     "text": [
      "166\n",
      "['skill', ' ', 'program', 'languages ', 'python', ' pandas ', 'numpy ', 'scipy ', 'scikit learn ', 'matplotlib ', 'sql ', 'java ', 'javascript jquery ', ' ', 'machin', 'learning ', 'regression ', 'svm ', 'nave', 'bayes ', 'knn ', 'random', 'forest ', 'decis', 'trees ', 'boost', 'techniques ', 'cluster', 'analysis ', 'word', 'embedding ', 'sentiment', 'analysis ', 'natur', 'languag', 'processing ', 'dimension', 'reduction ', 'topic', 'model', ' lda ', 'nmf ', 'pca', ' ', 'neural', 'nets ', ' ', 'databas', 'visualizations ', 'mysql ', 'sqlserver ', 'cassandra ', 'hbase ', 'elasticsearch', 'd3 js ', 'dc js ', 'plotly ', 'kibana ', 'matplotlib ', 'ggplot ', 'tableau ', ' ', 'others ', 'regular', 'expression ', 'html ', 'css ', 'angular', '6 ', 'logstash ', 'kafka ', 'python', 'flask ', 'git ', 'docker ', 'vision', ' ', 'open', 'cv', 'understand', 'deep', 'learning educ', 'detail', 'data', 'scienc', 'assur', 'associ', 'data', 'scienc', 'assur', 'associ', ' ', 'ernst', ' ', 'young', 'llp', 'skill', 'detail', 'javascript ', 'exprienc', ' ', '24', 'month', 'jquery ', 'exprienc', ' ', '24', 'month', 'python ', 'exprienc', ' ', '24', 'monthscompani', 'detail', 'compani', ' ', 'ernst', ' ', 'young', 'llp', 'descript', ' ', 'fraud', 'investig', 'disput', 'servic', 'assur', 'technolog', 'assist', 'review', 'tar', ' technolog', 'assist', 'review ', 'assist', 'acceler', 'review', 'process', 'run', 'analyt', 'gener', 'reports ', ' ', 'core', 'member', 'team', 'help', 'develop', 'autom', 'review', 'platform', 'tool', 'scratch', 'assist', 'e', 'discoveri', 'domain ', 'tool', 'implement', 'predict', 'code', 'topic', 'model', 'autom', 'reviews ', 'result', 'reduc', 'labor', 'cost', 'time', 'spent', 'lawyer', 'review ', ' ', 'understand', 'end', 'end', 'flow', 'solution ', 'research', 'develop', 'classif', 'models ', 'predict', 'analysi', 'mine', 'inform', 'present', 'text', 'data ', 'work', 'analyz', 'output', 'precis', 'monitor', 'entir', 'tool ', ' ', 'tar', 'assist', 'predict', 'coding ', 'topic', 'model', 'evid', 'follow', 'ey', 'standards ', 'develop', 'classifi', 'model', 'order', 'identifi', ' red', 'flags ', 'fraud rel', 'issues ', 'tool', ' ', 'technologies ', 'python ', 'scikit learn ', 'tfidf ', 'word2vec ', 'doc2vec ', 'cosin', 'similarity ', 'nave', 'bayes ', 'lda ', 'nmf', 'topic', 'modelling ', 'vader', 'text', 'blob', 'sentiment', 'analysis ', 'matplot', 'lib ', 'tableau', 'dashboard', 'reporting ', 'multipl', 'data', 'scienc', 'and', 'analyt', 'project', ' usa', 'clients ', 'text', 'analyt', ' ', 'motor', 'vehicl', 'custom', 'review', 'data', ' ', 'receiv', 'custom', 'feedback', 'survey', 'data', 'past', 'year ', 'perform', 'sentiment', ' positive ', 'neg', ' ', 'neutral ', 'time', 'seri', 'analysi', 'custom', 'comment', '4', 'categories ', ' ', 'creat', 'heat', 'map', 'term', 'survey', 'categori', 'base', 'frequenc', 'word', ' ', 'extract', 'posit', 'neg', 'word', 'survey', 'categori', 'plot', 'word', 'cloud ', ' ', 'creat', 'custom', 'tableau', 'dashboard', 'effect', 'report', 'visualizations ', 'chatbot', ' ', 'develop', 'user', 'friendli', 'chatbot', 'product', 'handl', 'simpl', 'question', 'hour', 'operation ', 'reserv', 'option', 'on ', ' ', 'thi', 'chat', 'bot', 'serv', 'entir', 'product', 'relat', 'questions ', 'give', 'overview', 'tool', 'qa', 'platform', 'recommend', 'respons', 'user', 'question', 'build', 'chain', 'relev', 'answer ', ' ', 'thi', 'intellig', 'build', 'pipelin', 'question', 'user', 'requir', 'ask', 'relev', ' recommend', 'questions ', 'tool', ' ', 'technologies ', 'python ', 'natur', 'languag', 'processing ', 'nltk ', 'spacy ', 'topic', 'modelling ', 'sentiment', 'analysis ', 'word', 'embedding ', 'scikit learn ', 'javascript jquery ', 'sqlserver', 'inform', 'govern', 'organ', 'inform', 'decis', 'inform', 'store ', 'the', 'integr', 'inform', 'govern', 'portfolio', 'synthes', 'intellig', 'unstructur', 'data', 'sourc', 'facilit', 'action', 'ensur', 'organ', 'best', 'posit', 'counter', 'inform', 'risk ', ' ', 'scan', 'data', 'multipl', 'sourc', 'format', 'pars', 'differ', 'file', 'formats ', 'extract', 'meta', 'data', 'information ', 'push', 'result', 'index', 'elast', 'search', 'creat', 'customized ', 'interact', 'dashboard', 'kibana ', ' ', 'preform', 'rot', 'analysi', 'data', 'inform', 'data', 'help', 'identifi', 'content', 'redundant ', 'outdated ', 'trivial ', ' ', 'preform', 'full text', 'search', 'analysi', 'elast', 'search', 'predefin', 'method', 'tag', ' pii ', 'person', 'identifi', 'inform', ' social', 'secur', 'numbers ', 'addresses ', 'names ', 'etc ', 'frequent', 'target', 'cyber attacks ', 'tool', ' ', 'technologies ', 'python ', 'flask ', 'elast', 'search ', 'kibana', 'fraud', 'analyt', 'platform', 'fraud', 'analyt', 'investig', 'platform', 'review', 'red', 'flag', 'cases ', 'fap', 'fraud', 'analyt', 'investig', 'platform', 'inbuilt', 'case', 'manag', 'suit', 'analyt', 'erp', 'systems ', ' ', 'it', 'client', 'interrog', 'account', 'system', 'identifi', 'anomali', 'indic', 'fraud', 'run', 'advanc', 'analyt', 'tool', ' ', 'technologies ', 'html ', 'javascript ', 'sqlserver ', 'jquery ', 'css ', 'bootstrap ', 'node js ', 'd3 js ', 'dc j']\n"
     ]
    }
   ],
   "source": [
    "import pandas as pd\n",
    "resume_raw = pd.read_csv('resume_clean_dataset.csv')\n",
    "resume_list = []\n",
    "\n",
    "for resume in resume_raw['Resume']:\n",
    "    resume_list.append(resume)\n",
    "    \n",
    "print(len(resume_list))\n",
    "resume_list_raw = resume_list\n",
    "\n",
    "resume_list = [remove_non_ascii(i) for i in resume_list]\n",
    "resume_list = [remove_stopwords(i).split() for i in resume_list]\n",
    "resume_list = [spl_chars_removal(i) for i in resume_list]\n",
    "resume_list_stemmed = [sentence_stemmer(i) for i in resume_list]\n",
    "    \n",
    "print(resume_list_stemmed[0])\n",
    "with open('resume_list_stemmed.pickle', 'wb') as handle:\n",
    "    pickle.dump(resume_list_stemmed, handle, protocol=pickle.HIGHEST_PROTOCOL)\n"
   ]
  },
  {
   "cell_type": "code",
   "execution_count": 23,
   "metadata": {
    "scrolled": true,
    "tags": []
   },
   "outputs": [
    {
     "name": "stdout",
     "output_type": "stream",
     "text": [
      "[4173, 6243, 4296, 5580, 6199, 4482, 4236, 6193, 3238, 2400]\n",
      "[1586, 1796, 7107, 2868, 6193, 1991, 5592, 6546, 2701, 2135]\n",
      "[6791, 1228, 6546, 3235, 2959, 5592, 6176, 4613, 2135, 2400]\n",
      "[4296, 5580, 4803, 2400, 6414, 4336, 4260, 4173, 4482, 4236]\n",
      "[5592, 4709, 2434, 4297, 2033, 765, 2701, 1991, 6546, 2135]\n",
      "[232, 4709, 2868, 4412, 5937, 6546, 5580, 2701, 1991, 2135]\n",
      "[2400, 3238, 6243, 4236, 6199, 5580, 6414, 4296, 6193, 4482]\n",
      "[7212, 6629, 6755, 6763, 5580, 6768, 5560, 5078, 2400, 6193]\n",
      "[5580, 4296, 5912, 6193, 6243, 6763, 5713, 7212, 6768, 5078]\n",
      "[6453, 5630, 4236, 6366, 4296, 6243, 6414, 4271, 5580, 4482]\n",
      "[296, 2290, 6711, 3685, 613, 5534, 3631, 120, 6091, 5057]\n",
      "[679, 482, 2693, 3963, 5403, 5119, 25, 7042, 4808, 3602]\n",
      "[2533, 1482, 184, 1916, 2154, 2343, 3166, 7240, 5119, 5697]\n",
      "[184, 792, 2179, 3028, 2921, 1482, 5119, 3427, 3166, 3234]\n",
      "[1656, 6186, 3645, 279, 1266, 3383, 2631, 5697, 4062, 3166]\n",
      "[7240, 3645, 2179, 3049, 1266, 3028, 184, 5119, 1482, 3166]\n",
      "[5857, 2319, 5693, 7380, 2631, 5752, 552, 5614, 2135, 3645]\n",
      "[2174, 6103, 5534, 3166, 1987, 5794, 1463, 1164, 20, 6853]\n",
      "[2319, 1656, 5857, 4063, 2631, 1401, 3685, 2135, 1266, 3645]\n",
      "[3605, 7380, 1520, 2631, 620, 6259, 5960, 7276, 6243, 3645]\n",
      "[3180, 120, 5033, 2339, 1685, 3625, 1036, 6914, 6526, 1882]\n",
      "[1567, 5327, 3287, 112, 6042, 2843, 2884, 1110, 818, 1835]\n",
      "[5470, 562, 450, 4709, 5697, 6193, 2563, 3483, 6858, 6760]\n",
      "[1232, 3690, 4297, 734, 1991, 247, 6546, 3504, 2135, 6914]\n",
      "[2693, 5274, 1623, 4254, 1335, 711, 6914, 1661, 1036, 3625]\n",
      "[6760, 2533, 5553, 5712, 6914, 1882, 6091, 120, 3625, 1036]\n",
      "[2765, 4981, 5534, 3665, 5958, 5712, 4654, 5057, 6091, 120]\n",
      "[2967, 4254, 4304, 247, 1036, 561, 6980, 1335, 6914, 3625]\n",
      "[2290, 3301, 1799, 6760, 1661, 3625, 247, 1335, 1036, 6914]\n",
      "[6714, 1916, 5958, 4363, 5712, 5889, 4654, 5057, 120, 6091]\n",
      "[5739, 2637, 6578, 7310, 1791, 3683, 5712, 405, 2037, 2161]\n",
      "[4412, 1371, 5080, 320, 5033, 4051, 120, 6091, 202, 1566]\n",
      "[2194, 7240, 2877, 256, 3207, 6086, 6098, 2004, 2516, 1566]\n",
      "[2510, 2516, 5102, 4446, 3577, 3383, 99, 296, 2290, 6250]\n",
      "[2506, 5358, 6578, 405, 1785, 7310, 5790, 4260, 2791, 5843]\n",
      "[3412, 2791, 5843, 5986, 202, 4805, 1761, 6687, 6696, 3605]\n",
      "[6182, 6726, 1008, 4713, 5159, 2460, 7246, 5582, 5374, 6259]\n",
      "[6759, 2853, 2768, 5557, 3186, 5374, 4847, 6259, 1008, 4713]\n",
      "[1752, 4700, 4163, 7246, 3278, 1817, 6259, 4847, 1828, 5712]\n",
      "[2735, 898, 5148, 2516, 6926, 6718, 7361, 5582, 5374, 6259]\n",
      "[2828, 4930, 3696, 6415, 6863, 7043, 3735, 5366, 3585, 6277]\n",
      "[5648, 2234, 327, 1217, 1930, 3271, 5753, 1796, 7107, 1872]\n",
      "[1742, 5342, 3184, 4721, 3974, 4999, 6277, 674, 613, 7299]\n",
      "[7041, 6521, 674, 6992, 5854, 6289, 4349, 1760, 6705, 4523]\n",
      "[5751, 2654, 5648, 2051, 5158, 4743, 1755, 6705, 7279, 7276]\n",
      "[1217, 1930, 3271, 5753, 2135, 1796, 7107, 931, 2667, 4067]\n",
      "[1860, 1410, 5659, 3622, 5592, 1313, 422, 249, 931, 2767]\n",
      "[6416, 1313, 5781, 5680, 3592, 7254, 3964, 864, 5862, 1860]\n",
      "[6203, 6500, 5974, 5440, 3064, 2592, 2755, 1860, 7181, 5966]\n",
      "[1313, 74, 6250, 4846, 5262, 3265, 5177, 6215, 1953, 3392]\n",
      "[279, 2791, 6091, 7359, 5057, 120, 5365, 1881, 2764, 2358]\n",
      "[6175, 5586, 6037, 120, 5134, 1881, 6091, 5057, 2298, 5712]\n",
      "[5553, 4314, 784, 537, 726, 3497, 2323, 1881, 2358, 2764]\n",
      "[4463, 3483, 6127, 5680, 850, 2358, 6499, 2764, 2298, 1881]\n",
      "[739, 6037, 4285, 6414, 5534, 2682, 120, 5057, 5553, 6091]\n",
      "[4313, 1860, 6798, 2401, 4600, 2475, 4548, 6515, 6743, 6037]\n",
      "[461, 261, 3832, 3912, 4056, 4781, 7262, 4987, 6318, 1958]\n",
      "[4396, 6336, 176, 4564, 613, 3912, 6318, 617, 2136, 7262]\n",
      "[565, 3368, 2136, 5376, 4396, 4781, 4253, 7262, 3912, 617]\n",
      "[167, 7262, 3832, 261, 5178, 5034, 613, 6724, 4609, 3912]\n",
      "[3926, 578, 617, 1641, 613, 2136, 7262, 565, 3912, 261]\n",
      "[6336, 2433, 4453, 176, 4253, 7262, 4564, 2136, 6318, 617]\n",
      "[7327, 3685, 1752, 3407, 5582, 2460, 3547, 2768, 5374, 5148]\n",
      "[6417, 4232, 5390, 3107, 4109, 7253, 3278, 5374, 3547, 5148]\n",
      "[4075, 4121, 7276, 6259, 5757, 3834, 2460, 1739, 5374, 5148]\n",
      "[2460, 5148, 3186, 3704, 3547, 1739, 3407, 1008, 4713, 5374]\n",
      "[5117, 6460, 3278, 6259, 1752, 3407, 5374, 7380, 4583, 6759]\n",
      "[1217, 1930, 3271, 5753, 1796, 7107, 5148, 3407, 2768, 2135]\n",
      "[3271, 5753, 1796, 7107, 5148, 2400, 3547, 5374, 2135, 2768]\n",
      "[5148, 1999, 7297, 2460, 3691, 2537, 7418, 3547, 6259, 5374]\n",
      "[1739, 7284, 6751, 3407, 2460, 1008, 4713, 2768, 5148, 5374]\n",
      "[3547, 1739, 5148, 2460, 1008, 4713, 6759, 2768, 5374, 5557]\n",
      "[2460, 4847, 6718, 5148, 5557, 6259, 1008, 4713, 2768, 5374]\n",
      "[6399, 4530, 6421, 5557, 285, 7362, 4651, 2359, 6259, 5374]\n",
      "[6718, 4232, 2460, 898, 3704, 1739, 5757, 7140, 5374, 5148]\n",
      "[6179, 3928, 4260, 7287, 2977, 4251, 6002, 6163, 5994, 6229]\n",
      "[3085, 2371, 2155, 6726, 1275, 2460, 2631, 6163, 7380, 6002]\n",
      "[5366, 7304, 1958, 2974, 2711, 6163, 6969, 7361, 6002, 4260]\n",
      "[7304, 5757, 2155, 4634, 386, 7361, 6990, 6229, 6163, 6002]\n",
      "[3722, 2319, 2388, 2768, 20, 5790, 4260, 5057, 120, 6091]\n",
      "[7116, 1495, 105, 1631, 4899, 6578, 552, 3745, 1666, 5372]\n",
      "[2348, 3793, 1513, 6020, 6395, 2400, 553, 5374, 4616, 7403]\n",
      "[4482, 5366, 6544, 3928, 4209, 6884, 6163, 6002, 4236, 5994]\n",
      "[3699, 4180, 3970, 2345, 4569, 2169, 4209, 3731, 2348, 6884]\n",
      "[5374, 6310, 5553, 1998, 5366, 4236, 6182, 3928, 4209, 6884]\n",
      "[1285, 4236, 2348, 3613, 778, 3857, 1998, 4591, 5889, 6884]\n",
      "[2135, 3094, 338, 3722, 5617, 2348, 4209, 5529, 6884, 5994]\n",
      "[3858, 5383, 4260, 3704, 4414, 2974, 4284, 5757, 4634, 7361]\n",
      "[5378, 4856, 6782, 4743, 5650, 6148, 3651, 6791, 3945, 6705]\n",
      "[7134, 3417, 5374, 4284, 1028, 4634, 1739, 3704, 7361, 5757]\n",
      "[1028, 5383, 1914, 1739, 1574, 3858, 4634, 7361, 4284, 5757]\n",
      "[4256, 5936, 4752, 386, 5757, 4634, 3704, 3858, 5383, 7361]\n",
      "[3704, 1914, 4752, 7025, 6362, 5757, 4634, 7361, 3858, 4284]\n",
      "[5757, 265, 5158, 3793, 3417, 2959, 4284, 5383, 7361, 1028]\n",
      "[4609, 6074, 2582, 4743, 6182, 782, 3987, 2359, 6705, 1228]\n",
      "[4743, 3635, 712, 3987, 811, 5342, 493, 1136, 6705, 1791]\n",
      "[6074, 4921, 3416, 5650, 782, 4743, 2592, 3987, 1228, 6705]\n",
      "[4814, 3235, 1035, 2126, 7299, 1228, 5480, 3814, 1649, 6705]\n",
      "[2040, 6074, 1742, 1228, 712, 2582, 7205, 1819, 782, 6705]\n",
      "[1116, 6544, 2620, 5451, 714, 3107, 5366, 7240, 4829, 2633]\n",
      "[4702, 4930, 5680, 6969, 848, 3278, 4665, 7240, 3968, 1661]\n",
      "[1386, 5086, 3415, 4740, 4702, 7416, 6277, 5659, 959, 3310]\n",
      "[5105, 7134, 6727, 3031, 5390, 6182, 5650, 1958, 2592, 6705]\n",
      "[2537, 6290, 5560, 2735, 1313, 7059, 5148, 3417, 2400, 1817]\n",
      "[5594, 7276, 6760, 2563, 5635, 202, 1502, 4271, 7154, 2949]\n",
      "[120, 6243, 4210, 7276, 6602, 5960, 6714, 6598, 6597, 5587]\n",
      "[1008, 4713, 2853, 7418, 7361, 7059, 3704, 3417, 2400, 1817]\n",
      "[1217, 1930, 3271, 5753, 1796, 7107, 2479, 6512, 2527, 7362]\n",
      "[2400, 2959, 3085, 6460, 1372, 4232, 5592, 1603, 2735, 4260]\n",
      "[6753, 3793, 5926, 2521, 5664, 6537, 3983, 4395, 3127, 1739]\n",
      "[765, 2234, 1796, 7107, 327, 1217, 1930, 3271, 5753, 2135]\n",
      "[6799, 2400, 6121, 7283, 3417, 3278, 2898, 7221, 7134, 1739]\n",
      "[7380, 3793, 2654, 5374, 6726, 6799, 3107, 6787, 6624, 6259]\n",
      "[3857, 5366, 4232, 7043, 1958, 1644, 2388, 3107, 7134, 5390]\n",
      "[2516, 4260, 6783, 1752, 5390, 4232, 3301, 6969, 679, 4847]\n",
      "[1958, 3704, 3417, 4260, 5383, 5757, 6229, 7134, 7361, 4634]\n",
      "[6062, 5255, 1011, 4928, 4092, 1065, 2405, 7221, 6799, 5432]\n",
      "[5129, 1938, 1065, 2405, 1804, 5556, 5953, 4092, 5668, 6799]\n",
      "[4162, 1804, 2786, 6799, 2645, 2912, 5071, 5129, 5556, 4742]\n",
      "[858, 2405, 4742, 6181, 4928, 4092, 2786, 6799, 1938, 5432]\n",
      "[3186, 4616, 4742, 2729, 5071, 5129, 550, 5133, 7128, 6799]\n",
      "[4930, 6002, 1296, 7240, 6431, 5390, 3516, 3578, 2388, 2633]\n",
      "[5784, 7043, 3857, 1827, 2872, 3405, 4665, 5390, 3387, 3206]\n",
      "[4750, 6431, 4600, 6969, 2877, 422, 6416, 5171, 6002, 5366]\n",
      "[2469, 6537, 6799, 7128, 4395, 4616, 2654, 3060, 5664, 3186]\n",
      "[2654, 5804, 7275, 7059, 3793, 6799, 5664, 4395, 4616, 3186]\n",
      "[6787, 5804, 3793, 6624, 4395, 2654, 6799, 7128, 3186, 5664]\n",
      "[5374, 2427, 1986, 7059, 3060, 5664, 3186, 4616, 4395, 2469]\n",
      "[3060, 1817, 2469, 4616, 2654, 1008, 4713, 3186, 4395, 5664]\n",
      "[7134, 5664, 6308, 7326, 4616, 5926, 5374, 3186, 2469, 4395]\n",
      "[7297, 6799, 7275, 2654, 3060, 4395, 4616, 5664, 3186, 2469]\n",
      "[3060, 3793, 7297, 2469, 7275, 4395, 2654, 4616, 3186, 5664]\n",
      "[2654, 3107, 5255, 5664, 1625, 3060, 4075, 4648, 3793, 3186]\n",
      "[2427, 2654, 2714, 5374, 3060, 4616, 5664, 3186, 2469, 4395]\n",
      "[2469, 4336, 4395, 1542, 5383, 5926, 4482, 5664, 6414, 5374]\n",
      "[5374, 6807, 4634, 4336, 7339, 7283, 5159, 1689, 5383, 553]\n",
      "[608, 2400, 2046, 6193, 4336, 6642, 7283, 1689, 5383, 553]\n",
      "[5664, 4336, 4648, 5926, 7339, 1689, 5383, 7283, 4296, 553]\n",
      "[6193, 4634, 1542, 3278, 5159, 7134, 7339, 1689, 5383, 553]\n",
      "[4260, 6421, 5664, 4336, 1689, 4634, 6642, 5159, 5383, 553]\n",
      "[5924, 5582, 6193, 5374, 7297, 7339, 6243, 5383, 6642, 553]\n",
      "[7283, 5529, 2427, 6807, 6408, 6193, 7339, 4634, 5383, 553]\n",
      "[5804, 386, 4260, 6640, 4236, 4634, 5383, 2898, 5159, 7339]\n",
      "[644, 6969, 7134, 7326, 3886, 1542, 2460, 4236, 7339, 5383]\n",
      "[6002, 4236, 4634, 5374, 5529, 4260, 7339, 1542, 5159, 5383]\n",
      "[5757, 5727, 1542, 7339, 4260, 2898, 5383, 4634, 5804, 5159]\n",
      "[1991, 3238, 120, 898, 6091, 5685, 1542, 4260, 5159, 7339]\n",
      "[1217, 1930, 3271, 5753, 1796, 7107, 5374, 7380, 4847, 2135]\n",
      "[5374, 3177, 3186, 3639, 2791, 1703, 6714, 5889, 6718, 7380]\n",
      "[5374, 7339, 2388, 1817, 6787, 1986, 3549, 7380, 7418, 6624]\n",
      "[5117, 279, 5697, 1520, 5889, 6259, 7380, 1752, 3278, 3547]\n",
      "[7380, 3255, 7418, 5804, 2400, 6718, 3549, 5557, 6259, 6624]\n",
      "[1008, 4713, 6259, 7418, 2460, 2768, 2735, 5557, 5374, 6624]\n",
      "[6799, 2135, 1586, 2853, 7418, 6718, 7140, 3549, 5374, 6259]\n",
      "[5374, 4730, 5366, 6726, 1090, 1625, 5286, 120, 4075, 1719]\n",
      "[6787, 7404, 5557, 6259, 5374, 6193, 3278, 1752, 6726, 4651]\n",
      "[3645, 1986, 3857, 6685, 4847, 7253, 7399, 6714, 6243, 5614]\n",
      "[5148, 4847, 6726, 5582, 4614, 5374, 2768, 1008, 4713, 2853]\n",
      "[5872, 2516, 4109, 3278, 4522, 6193, 3685, 3141, 4065, 1752]\n",
      "[6454, 6074, 5342, 6226, 3987, 1228, 6705, 6791, 6779, 2974]\n",
      "[2234, 1796, 7107, 327, 1217, 1930, 3271, 5753, 620, 1786]\n",
      "[4586, 6017, 6282, 5328, 7048, 5842, 2115, 6939, 782, 1228]\n",
      "[3829, 3056, 6522, 1958, 1372, 6362, 6226, 3184, 5342, 2974]\n",
      "[3184, 782, 6705, 4634, 528, 1958, 5305, 3987, 4102, 1228]\n",
      "[5607, 7279, 6714, 1752, 3107, 1805, 2631, 2592, 674, 3278]\n",
      "[7134, 7297, 7109, 4260, 342, 2460, 4634, 1999, 3793, 7361]\n"
     ]
    }
   ],
   "source": [
    "tokenized_corpus = job_desc_docs_stemmed\n",
    "bm25 = BM25Okapi(tokenized_corpus)\n",
    "\n",
    "df_best = pd.DataFrame(columns = [\"resume\", \"job\"])\n",
    "df_worst = pd.DataFrame(columns = [\"resume\", \"job\"])\n",
    "\n",
    "# for idx in range(250,280):\n",
    "for idx in range(len(resume_list_stemmed)):\n",
    "    tokenized_query = resume_list_stemmed[idx]\n",
    "# print(\"---------------------Resume-----------------------\")\n",
    "# print(resume_list_raw[idx])\n",
    "# print(\"---------------------JD-----------------------\")\n",
    "\n",
    "#     doc_top = bm25.get_top_n(tokenized_query, job_desc_docs_raw, n=5)\n",
    "    # print(doc_top[0])\n",
    "    doc_scores = bm25.get_scores(tokenized_query)\n",
    "#     doc_scores_dict = {key: value for (key, value) in enumerate(doc_scores)}\n",
    "    top_matches = sorted(range(len(doc_scores)), key=lambda i: doc_scores[i])[-10:]\n",
    "    worst_matches = sorted(range(len(doc_scores)), key=lambda i: doc_scores[i])[0:5]\n",
    "    print(top_matches)\n",
    "    \n",
    "    counter = 0\n",
    "#     for doc_idx, score in enumerate(doc_scores):\n",
    "#         if score == max(doc_scores):\n",
    "#             print(idx, doc_idx)\n",
    "    for match in top_matches:\n",
    "        if doc_scores[match] > 200:\n",
    "            df_best = df_best.append({\"resume\": remove_non_ascii(resume_list_raw[idx]), \"job\": job_desc_docs_raw[match]}, ignore_index=True)\n",
    "    \n",
    "    for match in worst_matches:\n",
    "        df_worst = df_worst.append({\"resume\": remove_non_ascii(resume_list_raw[idx]), \"job\": job_desc_docs_raw[match]}, ignore_index=True)\n",
    "            \n",
    "\n",
    "df_best.to_csv('matches_best.tsv', sep = '\\t')\n",
    "df_worst.to_csv('matches_worst.tsv', sep = '\\t')"
   ]
  },
  {
   "cell_type": "code",
   "execution_count": null,
   "metadata": {},
   "outputs": [],
   "source": [
    "print(master_list[str(6259)])"
   ]
  },
  {
   "cell_type": "code",
   "execution_count": null,
   "metadata": {},
   "outputs": [],
   "source": []
  }
 ],
 "metadata": {
  "kernelspec": {
   "display_name": "Python 3",
   "language": "python",
   "name": "python3"
  },
  "language_info": {
   "codemirror_mode": {
    "name": "ipython",
    "version": 3
   },
   "file_extension": ".py",
   "mimetype": "text/x-python",
   "name": "python",
   "nbconvert_exporter": "python",
   "pygments_lexer": "ipython3",
   "version": "3.9.6"
  }
 },
 "nbformat": 4,
 "nbformat_minor": 5
}
