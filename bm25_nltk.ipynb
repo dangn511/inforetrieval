{
 "cells": [
  {
   "cell_type": "code",
   "execution_count": 3,
   "id": "226e8458",
   "metadata": {},
   "outputs": [
    {
     "name": "stderr",
     "output_type": "stream",
     "text": [
      "[nltk_data] Downloading package punkt to\n",
      "[nltk_data]     C:\\Users\\edge\\AppData\\Roaming\\nltk_data...\n",
      "[nltk_data]   Unzipping tokenizers\\punkt.zip.\n"
     ]
    },
    {
     "data": {
      "text/plain": [
       "True"
      ]
     },
     "execution_count": 3,
     "metadata": {},
     "output_type": "execute_result"
    }
   ],
   "source": [
    "import nltk\n",
    "\n",
    "nltk.download('punkt')"
   ]
  },
  {
   "cell_type": "code",
   "execution_count": 7,
   "id": "52058970",
   "metadata": {},
   "outputs": [
    {
     "name": "stdout",
     "output_type": "stream",
     "text": [
      "Collecting rank_bm25\n",
      "  Downloading rank_bm25-0.2.1-py3-none-any.whl (8.5 kB)\n",
      "Requirement already satisfied: numpy in c:\\users\\edge\\appdata\\roaming\\python\\python37\\site-packages (from rank_bm25) (1.21.1)\n",
      "Installing collected packages: rank-bm25\n",
      "Successfully installed rank-bm25-0.2.1\n"
     ]
    },
    {
     "name": "stderr",
     "output_type": "stream",
     "text": [
      "WARNING: You are using pip version 20.1.1; however, version 21.2.3 is available.\n",
      "You should consider upgrading via the 'c:\\users\\edge\\appdata\\local\\programs\\python\\python37\\python.exe -m pip install --upgrade pip' command.\n"
     ]
    }
   ],
   "source": [
    "!pip install rank_bm25"
   ]
  },
  {
   "cell_type": "code",
   "execution_count": 41,
   "id": "f14db35e",
   "metadata": {},
   "outputs": [],
   "source": [
    "from nltk.tokenize import word_tokenize\n",
    "import pickle, json\n",
    "import pandas as pd\n",
    "\n",
    "from rank_bm25 import *\n",
    "from gensim.parsing.preprocessing import STOPWORDS\n",
    "from gensim.parsing.preprocessing import remove_stopwords\n",
    "import re"
   ]
  },
  {
   "cell_type": "code",
   "execution_count": 42,
   "id": "701ac1ed",
   "metadata": {},
   "outputs": [],
   "source": [
    "def stopwords_remove(lst):\n",
    "    lst1=list()\n",
    "    for str in lst:\n",
    "        text_tokens = word_tokenize(str)\n",
    "        tokens_without_sw = [word for word in text_tokens if not word in all_stopwords_gensim]\n",
    "        str_t = \" \".join(tokens_without_sw)\n",
    "        lst1.append(str_t)\n",
    " \n",
    "    return lst1"
   ]
  },
  {
   "cell_type": "code",
   "execution_count": 105,
   "id": "7a5e8901",
   "metadata": {},
   "outputs": [],
   "source": [
    "def spl_chars_removal(lst):\n",
    "    lst1=list()\n",
    "    for element in lst:\n",
    "        str= \"\"\n",
    "        str = re.sub(\"[^A-Za-z0-9]+\",\" \",element)\n",
    "        lst1.append(str)\n",
    "    return lst1"
   ]
  },
  {
   "cell_type": "code",
   "execution_count": 106,
   "id": "99874c5f",
   "metadata": {},
   "outputs": [],
   "source": [
    "def remove_non_ascii(sentence):\n",
    "    temp_str = sentence.encode('ascii', errors='ignore').decode(\"utf-8\")\n",
    "    result = \" \".join(temp_str.split())\n",
    "    return result"
   ]
  },
  {
   "cell_type": "code",
   "execution_count": null,
   "id": "c55f970a",
   "metadata": {},
   "outputs": [],
   "source": [
    "import nltk\n",
    "from nltk.stem import PorterStemmer\n",
    "ps = PorterStemmer() \n",
    "sentence = \"Charles IV, King of Bohemia and Holy Roman Emperor, had a long and successful reign. The Empire he ruled from Prague expanded, and his subjects lived in peace and prosperity.\"\n",
    "for word in sentence.split():\n",
    "    print(ps.stem(word))\n",
    "    \n",
    "def sentence_stemmer(sentence):\n",
    "    return [ps.stem(word) for word in sentence]\n"
   ]
  },
  {
   "cell_type": "code",
   "execution_count": null,
   "id": "d7a50f03",
   "metadata": {},
   "outputs": [],
   "source": [
    "with open('master_list_relabeled.json', 'r') as fp:\n",
    "    master_list = json.load(fp)\n",
    "    \n",
    "job_desc_docs = []\n",
    "for i in master_list:\n",
    "    job_desc_docs.append(master_list[i]['job_description'])\n",
    "\n",
    "print(len(job_desc_docs))\n",
    "job_desc_docs_raw = job_desc_docs\n",
    "\n",
    "job_desc_docs = [remove_stopwords(i).split() for i in job_desc_docs]\n",
    "job_desc_docs = [spl_chars_removal(i) for i in job_desc_docs]\n",
    "job_desc_docs_stemmed = [sentence_stemmer(i) for i in job_desc_docs]\n",
    "print(job_desc_docs_stemmed[1])\n",
    "\n",
    "with open('job_desc_tokenized.pickle', 'wb') as handle:\n",
    "    pickle.dump(job_desc_docs_stemmed, handle, protocol=pickle.HIGHEST_PROTOCOL)\n",
    "    print(\"saved\")"
   ]
  },
  {
   "cell_type": "code",
   "execution_count": 155,
   "id": "4cc8bd4b",
   "metadata": {},
   "outputs": [
    {
     "name": "stdout",
     "output_type": "stream",
     "text": [
      "166\n",
      "['skill', ' ', 'program', 'languages ', 'python', ' pandas ', 'numpy ', 'scipy ', 'scikit learn ', 'matplotlib ', 'sql ', 'java ', 'javascript jquery ', ' ', 'machin', 'learning ', 'regression ', 'svm ', 'na v', 'bayes ', 'knn ', 'random', 'forest ', 'decis', 'trees ', 'boost', 'techniques ', 'cluster', 'analysis ', 'word', 'embedding ', 'sentiment', 'analysis ', 'natur', 'languag', 'processing ', 'dimension', 'reduction ', 'topic', 'model', ' lda ', 'nmf ', 'pca', ' ', 'neural', 'nets ', ' ', 'databas', 'visualizations ', 'mysql ', 'sqlserver ', 'cassandra ', 'hbase ', 'elasticsearch', 'd3 js ', 'dc js ', 'plotly ', 'kibana ', 'matplotlib ', 'ggplot ', 'tableau ', ' ', 'others ', 'regular', 'expression ', 'html ', 'css ', 'angular', '6 ', 'logstash ', 'kafka ', 'python', 'flask ', 'git ', 'docker ', 'vision', ' ', 'open', 'cv', 'understand', 'deep', 'learning educ', 'detail', 'data', 'scienc', 'assur', 'associ', 'data', 'scienc', 'assur', 'associ', ' ', 'ernst', ' ', 'young', 'llp', 'skill', 'detail', 'javascript ', 'exprienc', ' ', '24', 'month', 'jquery ', 'exprienc', ' ', '24', 'month', 'python ', 'exprienc', ' ', '24', 'monthscompani', 'detail', 'compani', ' ', 'ernst', ' ', 'young', 'llp', 'descript', ' ', 'fraud', 'investig', 'disput', 'servic', 'assur', 'technolog', 'assist', 'review', 'tar', ' technolog', 'assist', 'review ', 'assist', 'acceler', 'review', 'process', 'run', 'analyt', 'gener', 'reports ', ' ', 'core', 'member', 'team', 'help', 'develop', 'autom', 'review', 'platform', 'tool', 'scratch', 'assist', 'e', 'discoveri', 'domain ', 'tool', 'implement', 'predict', 'code', 'topic', 'model', 'autom', 'reviews ', 'result', 'reduc', 'labor', 'cost', 'time', 'spent', 'lawyer', 'review ', ' ', 'understand', 'end', 'end', 'flow', 'solution ', 'research', 'develop', 'classif', 'models ', 'predict', 'analysi', 'mine', 'inform', 'present', 'text', 'data ', 'work', 'analyz', 'output', 'precis', 'monitor', 'entir', 'tool ', ' ', 'tar', 'assist', 'predict', 'coding ', 'topic', 'model', 'evid', 'follow', 'ey', 'standards ', 'develop', 'classifi', 'model', 'order', 'identifi', ' red', 'flags ', 'fraud rel', 'issues ', 'tool', ' ', 'technologies ', 'python ', 'scikit learn ', 'tfidf ', 'word2vec ', 'doc2vec ', 'cosin', 'similarity ', 'na v', 'bayes ', 'lda ', 'nmf', 'topic', 'modelling ', 'vader', 'text', 'blob', 'sentiment', 'analysis ', 'matplot', 'lib ', 'tableau', 'dashboard', 'reporting ', 'multipl', 'data', 'scienc', 'and', 'analyt', 'project', ' usa', 'clients ', 'text', 'analyt', ' ', 'motor', 'vehicl', 'custom', 'review', 'data', ' ', 'receiv', 'custom', 'feedback', 'survey', 'data', 'past', 'year ', 'perform', 'sentiment', ' positive ', 'neg', ' ', 'neutral ', 'time', 'seri', 'analysi', 'custom', 'comment', '4', 'categories ', ' ', 'creat', 'heat', 'map', 'term', 'survey', 'categori', 'base', 'frequenc', 'word', ' ', 'extract', 'posit', 'neg', 'word', 'survey', 'categori', 'plot', 'word', 'cloud ', ' ', 'creat', 'custom', 'tableau', 'dashboard', 'effect', 'report', 'visualizations ', 'chatbot', ' ', 'develop', 'user', 'friendli', 'chatbot', 'product', 'handl', 'simpl', 'question', 'hour', 'operation ', 'reserv', 'option', 'on ', ' ', 'thi', 'chat', 'bot', 'serv', 'entir', 'product', 'relat', 'questions ', 'give', 'overview', 'tool', 'qa', 'platform', 'recommend', 'respons', 'user', 'question', 'build', 'chain', 'relev', 'answer ', ' ', 'thi', 'intellig', 'build', 'pipelin', 'question', 'user', 'requir', 'ask', 'relev', ' recommend', 'questions ', 'tool', ' ', 'technologies ', 'python ', 'natur', 'languag', 'processing ', 'nltk ', 'spacy ', 'topic', 'modelling ', 'sentiment', 'analysis ', 'word', 'embedding ', 'scikit learn ', 'javascript jquery ', 'sqlserver', 'inform', 'govern', 'organ', 'inform', 'decis', 'inform', 'store ', 'the', 'integr', 'inform', 'govern', 'portfolio', 'synthes', 'intellig', 'unstructur', 'data', 'sourc', 'facilit', 'action', 'ensur', 'organ', 'best', 'posit', 'counter', 'inform', 'risk ', ' ', 'scan', 'data', 'multipl', 'sourc', 'format', 'pars', 'differ', 'file', 'formats ', 'extract', 'meta', 'data', 'information ', 'push', 'result', 'index', 'elast', 'search', 'creat', 'customized ', 'interact', 'dashboard', 'kibana ', ' ', 'preform', 'rot', 'analysi', 'data', 'inform', 'data', 'help', 'identifi', 'content', 'redundant ', 'outdated ', 'trivial ', ' ', 'preform', 'full text', 'search', 'analysi', 'elast', 'search', 'predefin', 'method', 'tag', ' pii ', 'person', 'identifi', 'inform', ' social', 'secur', 'numbers ', 'addresses ', 'names ', 'etc ', 'frequent', 'target', 'cyber attacks ', 'tool', ' ', 'technologies ', 'python ', 'flask ', 'elast', 'search ', 'kibana', 'fraud', 'analyt', 'platform', 'fraud', 'analyt', 'investig', 'platform', 'review', 'red', 'flag', 'cases ', ' ', 'fap', 'fraud', 'analyt', 'investig', 'platform', 'inbuilt', 'case', 'manag', 'suit', 'analyt', 'erp', 'systems ', ' ', 'it', 'client', 'interrog', 'account', 'system', 'identifi', 'anomali', 'indic', 'fraud', 'run', 'advanc', 'analyt', 'tool', ' ', 'technologies ', 'html ', 'javascript ', 'sqlserver ', 'jquery ', 'css ', 'bootstrap ', 'node js ', 'd3 js ', 'dc j']\n"
     ]
    }
   ],
   "source": [
    "import pandas as pd\n",
    "resume_raw = pd.read_csv('Updated_dataset.csv')\n",
    "resume_list = []\n",
    "\n",
    "for resume in resume_raw['Resume']:\n",
    "    resume_list.append(resume)\n",
    "    \n",
    "print(len(resume_list))\n",
    "resume_list_raw = resume_list\n",
    "\n",
    "resume_list = [remove_non_ascii(i) for i in resume_list]\n",
    "resume_list = [remove_stopwords(i).split() for i in resume_list]\n",
    "resume_list = [spl_chars_removal(i) for i in resume_list]\n",
    "resume_list_stemmed = [sentence_stemmer(i) for i in resume_list]\n",
    "    \n",
    "print(resume_list_stemmed[0])\n",
    "with open('resume_list_stemmed.pickle', 'wb') as handle:\n",
    "    pickle.dump(resume_list_stemmed, handle, protocol=pickle.HIGHEST_PROTOCOL)\n"
   ]
  },
  {
   "cell_type": "code",
   "execution_count": 159,
   "id": "88ee4b2a",
   "metadata": {
    "scrolled": true,
    "tags": []
   },
   "outputs": [
    {
     "name": "stdout",
     "output_type": "stream",
     "text": [
      "[4296, 5580, 6199, 4482, 4236, 6193, 3238, 2400]\n",
      "[7107, 2868, 6193, 1991, 5592, 6546, 2701, 2135]\n",
      "[6546, 3235, 2959, 5592, 6176, 4613, 2135, 2400]\n",
      "[4803, 6193, 2898, 338, 4482, 4173, 4260, 4236]\n",
      "[2434, 4297, 2033, 765, 2701, 1991, 6546, 2135]\n",
      "[2868, 4412, 5937, 6546, 5580, 2701, 1991, 2135]\n",
      "[4648, 2344, 4296, 6199, 4236, 3238, 4482, 6193]\n",
      "[6243, 6685, 5580, 5872, 6768, 2400, 5560, 6193]\n",
      "[6763, 5713, 7212, 5912, 6243, 6193, 6768, 5078]\n",
      "[6243, 5580, 6366, 3238, 6193, 4236, 4271, 4482]\n",
      "[296, 2290, 3685, 5553, 3631, 613, 6091, 5057]\n",
      "[679, 2693, 5403, 25, 7042, 5119, 4808, 3602]\n",
      "[184, 1916, 2154, 2343, 3166, 7240, 5119, 5697]\n",
      "[2179, 3028, 2921, 1482, 5119, 3427, 3166, 3234]\n",
      "[3645, 279, 1266, 3383, 2631, 5697, 4062, 3166]\n",
      "[2179, 3049, 1266, 3028, 184, 5119, 1482, 3166]\n",
      "[6783, 51, 5693, 552, 1786, 7380, 2631, 3645]\n",
      "[5534, 3166, 1987, 5794, 1463, 1164, 20, 6853]\n",
      "[5753, 1656, 3685, 4063, 1401, 2631, 1266, 3645]\n",
      "[2929, 1786, 6259, 7380, 3605, 2631, 7276, 3645]\n",
      "[6526, 2516, 6760, 5033, 2339, 6914, 1036, 1882]\n",
      "[3287, 112, 6042, 2843, 2884, 1110, 818, 1835]\n",
      "[4709, 562, 6193, 5697, 2563, 6858, 3483, 6760]\n",
      "[247, 4297, 734, 1991, 6546, 2135, 3504, 6914]\n",
      "[5034, 6467, 1623, 3625, 6914, 3278, 1661, 1036]\n",
      "[5553, 5712, 6914, 1882, 6091, 120, 3625, 1036]\n",
      "[5534, 3665, 5958, 5712, 4654, 5057, 6091, 120]\n",
      "[4304, 247, 1036, 561, 6980, 1335, 6914, 3625]\n",
      "[1799, 6760, 1661, 3625, 247, 1335, 1036, 6914]\n",
      "[5958, 1916, 6760, 4654, 120, 5712, 6091, 5889]\n",
      "[5739, 3325, 1791, 7310, 405, 5712, 2037, 2161]\n",
      "[5712, 1713, 4412, 120, 5033, 6091, 1566, 202]\n",
      "[3107, 1855, 6086, 256, 7240, 2004, 1566, 2516]\n",
      "[4446, 2516, 3577, 3383, 6250, 99, 296, 2290]\n",
      "[5358, 6578, 405, 7310, 4260, 5790, 2791, 5843]\n",
      "[5843, 5986, 202, 4805, 1761, 6687, 6696, 3605]\n",
      "[2460, 6926, 4294, 6726, 7246, 5582, 5374, 6259]\n",
      "[2768, 5557, 3186, 5374, 4847, 6259, 1008, 4713]\n",
      "[4163, 7246, 3278, 1817, 6259, 4847, 1828, 5712]\n",
      "[5148, 2516, 6926, 6718, 7361, 5582, 5374, 6259]\n",
      "[6415, 3696, 4930, 3735, 3585, 5366, 7043, 6277]\n",
      "[327, 1217, 1930, 3271, 5753, 1796, 7107, 1872]\n",
      "[3184, 4721, 3974, 4999, 6277, 674, 613, 7299]\n",
      "[3278, 4805, 6289, 3184, 4349, 674, 4523, 6705]\n",
      "[5648, 2051, 5158, 4743, 1755, 6705, 7279, 7276]\n",
      "[3271, 5753, 2135, 1796, 7107, 931, 2667, 4067]\n",
      "[5659, 3622, 5592, 1313, 422, 249, 931, 2767]\n",
      "[3300, 3964, 3141, 6416, 6011, 1313, 864, 1860]\n",
      "[6203, 6500, 2755, 3064, 2592, 1860, 7181, 5966]\n",
      "[4232, 829, 1855, 5966, 3891, 1313, 3064, 2516]\n",
      "[6091, 7359, 5057, 120, 5365, 1881, 2764, 2358]\n",
      "[6037, 120, 5134, 1881, 6091, 5057, 2298, 5712]\n",
      "[4958, 726, 474, 1881, 537, 6214, 5553, 2764]\n",
      "[5680, 3483, 4463, 6499, 850, 2298, 2764, 1881]\n",
      "[2290, 5986, 4285, 5935, 120, 2682, 6091, 5553]\n",
      "[4463, 1860, 5553, 2401, 6743, 2475, 4548, 6515]\n",
      "[4609, 4056, 5034, 261, 3912, 6318, 7262, 1958]\n",
      "[176, 4564, 613, 3912, 6318, 617, 2136, 7262]\n",
      "[261, 3368, 4781, 5376, 4253, 7262, 617, 3912]\n",
      "[7262, 5178, 261, 613, 5034, 4609, 6724, 3912]\n",
      "[3926, 565, 1641, 2136, 613, 7262, 3912, 261]\n",
      "[6336, 4253, 6318, 2136, 176, 7262, 4564, 617]\n",
      "[1752, 3407, 5582, 2460, 3547, 2768, 5374, 5148]\n",
      "[5390, 4109, 3107, 7253, 3278, 5374, 3547, 5148]\n",
      "[3278, 3834, 4075, 7276, 2460, 1739, 5374, 5148]\n",
      "[1739, 5148, 3186, 3547, 3407, 1008, 4713, 5374]\n",
      "[3278, 6259, 1752, 3407, 5374, 7380, 4583, 6759]\n",
      "[1217, 1930, 3271, 5753, 1796, 7107, 5148, 2768]\n",
      "[1796, 7107, 5148, 2400, 3547, 5374, 2135, 2768]\n",
      "[2460, 2537, 7297, 3691, 7418, 3547, 6259, 5374]\n",
      "[6751, 2460, 3407, 1008, 4713, 2768, 5148, 5374]\n",
      "[5148, 2460, 1008, 4713, 6759, 2768, 5374, 5557]\n",
      "[5557, 6718, 1008, 4713, 5148, 6259, 2768, 5374]\n",
      "[4530, 6399, 4651, 6421, 7362, 2359, 6259, 5374]\n",
      "[1783, 4232, 3735, 898, 5757, 7140, 5374, 5148]\n",
      "[6460, 5366, 4260, 6884, 6705, 6229, 6002, 5994]\n",
      "[135, 3107, 3085, 2460, 6726, 6002, 7380, 2631]\n",
      "[7304, 6705, 2974, 6969, 7361, 2711, 6002, 4260]\n",
      "[6460, 386, 6990, 1625, 4075, 7304, 7361, 6002]\n",
      "[3107, 3645, 6431, 5790, 3722, 2388, 2768, 6091]\n",
      "[3745, 298, 7116, 1666, 552, 6578, 4899, 5372]\n",
      "[3793, 2348, 4162, 6395, 4075, 3060, 7403, 5374]\n",
      "[3094, 5366, 2348, 6884, 4209, 6002, 5994, 4236]\n",
      "[2345, 2169, 4180, 3970, 3731, 4209, 2348, 6884]\n",
      "[5366, 5374, 537, 5889, 4236, 5553, 4209, 6884]\n",
      "[3613, 4236, 2348, 1285, 1998, 3857, 5889, 6884]\n",
      "[3094, 338, 3722, 2348, 4209, 5994, 5529, 6884]\n",
      "[4260, 2369, 3417, 3987, 5757, 4634, 2974, 7361]\n",
      "[4856, 3651, 6148, 5650, 4743, 3945, 6791, 6705]\n",
      "[3704, 1739, 5383, 7134, 3417, 5374, 7361, 5757]\n",
      "[7134, 1739, 3417, 5383, 4634, 4284, 7361, 5757]\n",
      "[7134, 3704, 4260, 5158, 4634, 3547, 5383, 7361]\n",
      "[4752, 7025, 6362, 5757, 4634, 7361, 3858, 4284]\n",
      "[5158, 3793, 3417, 2959, 4284, 5383, 7361, 1028]\n",
      "[2582, 6182, 4743, 782, 3987, 2359, 6705, 1228]\n",
      "[1899, 4743, 3987, 5342, 811, 493, 6705, 1791]\n",
      "[6791, 1554, 5650, 4743, 2592, 3987, 1228, 6705]\n",
      "[1035, 2126, 7299, 1228, 5480, 3814, 1649, 6705]\n",
      "[2475, 782, 1742, 1228, 2582, 7205, 1819, 6705]\n",
      "[6431, 5390, 6421, 4665, 5366, 4930, 7240, 3107]\n",
      "[4958, 4665, 848, 4930, 3278, 7240, 1661, 3968]\n",
      "[4702, 5086, 4740, 7416, 6277, 5659, 3310, 959]\n",
      "[3974, 3987, 1958, 4930, 5390, 5650, 2592, 6705]\n",
      "[5374, 3278, 2388, 6290, 1313, 3417, 5148, 1817]\n",
      "[6760, 2563, 5635, 202, 1502, 4271, 7154, 2949]\n",
      "[4210, 7276, 6602, 5960, 6714, 6598, 6597, 5587]\n",
      "[7361, 5148, 2853, 5374, 3704, 2400, 3417, 1817]\n",
      "[1217, 1930, 3271, 5753, 2527, 1796, 7107, 7362]\n",
      "[3085, 6460, 1372, 4232, 1603, 5592, 2735, 4260]\n",
      "[3186, 3793, 4648, 5926, 2521, 3983, 1739, 3127]\n",
      "[1796, 7107, 327, 1217, 1930, 3271, 5753, 2135]\n",
      "[4648, 6121, 3417, 2898, 7221, 3278, 7134, 1739]\n",
      "[5374, 2654, 6799, 6726, 3107, 6787, 6624, 6259]\n",
      "[3278, 7134, 2768, 7043, 3857, 3107, 2388, 5390]\n",
      "[3278, 5034, 7043, 6783, 4847, 1752, 2516, 5390]\n",
      "[1958, 3184, 4260, 5383, 4634, 7361, 3417, 7134]\n",
      "[4092, 5255, 1011, 2405, 1065, 7221, 6799, 5432]\n",
      "[1065, 3691, 1804, 4092, 5953, 5556, 6799, 5668]\n",
      "[2372, 5607, 2645, 2912, 5556, 5071, 5129, 4742]\n",
      "[4928, 7253, 2786, 858, 4092, 1938, 6799, 5432]\n",
      "[2654, 3186, 4162, 5133, 5071, 5129, 7128, 6799]\n",
      "[6421, 3112, 7240, 3107, 4930, 6431, 5390, 2388]\n",
      "[2388, 7043, 3405, 4665, 3857, 3206, 3387, 5390]\n",
      "[4600, 6969, 2877, 422, 6416, 5171, 6002, 5366]\n",
      "[4648, 6799, 4616, 5664, 7128, 2654, 3060, 3186]\n",
      "[5374, 5664, 3793, 2654, 7275, 6799, 4616, 3186]\n",
      "[5374, 6787, 3793, 6799, 3186, 2654, 5664, 7128]\n",
      "[1986, 5374, 7059, 5664, 2469, 4616, 3060, 3186]\n",
      "[7297, 3060, 2654, 4616, 2469, 4395, 5664, 3186]\n",
      "[7326, 1986, 4616, 5926, 5374, 3186, 4395, 2469]\n",
      "[6799, 4616, 7275, 2469, 2654, 5664, 3060, 3186]\n",
      "[3793, 7297, 3060, 7275, 4616, 2654, 5664, 3186]\n",
      "[3107, 5255, 1625, 3060, 4075, 3793, 3186, 4648]\n",
      "[2714, 5374, 3060, 4616, 5664, 3186, 2469, 4395]\n",
      "[5383, 6193, 4482, 3060, 1542, 5664, 5926, 5374]\n",
      "[3278, 4260, 6642, 7339, 5159, 5374, 5383, 553]\n",
      "[3983, 608, 7283, 2046, 6193, 6642, 5383, 553]\n",
      "[4296, 3278, 3107, 2898, 5926, 4648, 5383, 553]\n",
      "[6193, 6787, 7134, 4648, 1752, 3278, 5383, 553]\n",
      "[5664, 4336, 1689, 4634, 6642, 5159, 5383, 553]\n",
      "[7276, 5582, 6193, 7297, 5374, 5383, 6642, 553]\n",
      "[2898, 5529, 7339, 6408, 6193, 4634, 553, 5383]\n",
      "[6640, 4260, 4634, 4236, 5383, 5159, 7339, 2898]\n",
      "[6969, 2898, 7134, 2460, 1542, 4236, 7339, 5383]\n",
      "[6705, 7339, 5529, 5159, 5374, 4260, 1542, 5383]\n",
      "[5374, 2654, 4260, 1542, 4634, 2898, 5383, 5159]\n",
      "[6546, 898, 5685, 3238, 1542, 5159, 4260, 7339]\n",
      "[3271, 5753, 1796, 7107, 4847, 5374, 7380, 2135]\n",
      "[3186, 3639, 2791, 1703, 6714, 5889, 6718, 7380]\n",
      "[1817, 2388, 6787, 3549, 1986, 7418, 7380, 6624]\n",
      "[5697, 1520, 6259, 5889, 7380, 1752, 3278, 3547]\n",
      "[7418, 5582, 7380, 3549, 6718, 5557, 6259, 6624]\n",
      "[3793, 5582, 2460, 2654, 6259, 2735, 2768, 5374]\n",
      "[7418, 2853, 1586, 7140, 6718, 3549, 5374, 6259]\n",
      "[7259, 4730, 5366, 5286, 1786, 1625, 6726, 4075]\n",
      "[5557, 6259, 5374, 6193, 3278, 1752, 6726, 4651]\n",
      "[3857, 6685, 4847, 7253, 7399, 6714, 6243, 5614]\n",
      "[6726, 5582, 4614, 5374, 2768, 1008, 4713, 2853]\n",
      "[4109, 3278, 4522, 6193, 3685, 3141, 4065, 1752]\n",
      "[5342, 7276, 6226, 1228, 3987, 6705, 6791, 2974]\n",
      "[327, 1217, 1930, 3271, 5753, 1796, 7107, 1786]\n",
      "[6738, 7048, 3622, 5842, 782, 6939, 2115, 1228]\n",
      "[5729, 909, 1372, 6226, 5342, 3184, 6522, 2974]\n",
      "[1958, 4102, 2369, 3184, 6705, 5305, 3987, 1228]\n",
      "[6714, 1752, 3107, 1805, 2631, 2592, 674, 3278]\n",
      "[2654, 4260, 4634, 2460, 342, 1999, 7361, 3793]\n"
     ]
    }
   ],
   "source": [
    "tokenized_corpus = job_desc_docs_stemmed\n",
    "bm25 = BM25Okapi(tokenized_corpus)\n",
    "\n",
    "df = pd.DataFrame(columns = [\"resume\", \"job\"])\n",
    "\n",
    "# for idx in range(250,280):\n",
    "for idx in range(len(resume_list_stemmed)):\n",
    "    tokenized_query = resume_list_stemmed[idx]\n",
    "# print(\"---------------------Resume-----------------------\")\n",
    "# print(resume_list_raw[idx])\n",
    "# print(\"---------------------JD-----------------------\")\n",
    "\n",
    "#     doc_top = bm25.get_top_n(tokenized_query, job_desc_docs_raw, n=5)\n",
    "    # print(doc_top[0])\n",
    "    doc_scores = bm25.get_scores(tokenized_query)\n",
    "#     doc_scores_dict = {key: value for (key, value) in enumerate(doc_scores)}\n",
    "    top_matches = sorted(range(len(doc_scores)), key=lambda i: doc_scores[i])[-8:]\n",
    "    print(top_matches)\n",
    "    \n",
    "    counter = 0\n",
    "#     for doc_idx, score in enumerate(doc_scores):\n",
    "#         if score == max(doc_scores):\n",
    "#             print(idx, doc_idx)\n",
    "    for match in top_matches:\n",
    "        # print(\"match\")\n",
    "        df = df.append({\"resume\": remove_non_ascii(resume_list_raw[idx]), \"job\": job_desc_docs_raw[match]}, ignore_index=True)\n",
    "            \n",
    "\n",
    "df.to_csv('matches.tsv', sep = '\\t')            "
   ]
  },
  {
   "cell_type": "code",
   "execution_count": null,
   "id": "16effd27",
   "metadata": {},
   "outputs": [],
   "source": [
    "print(master_list[str(6259)])"
   ]
  },
  {
   "cell_type": "code",
   "execution_count": null,
   "id": "9ac64c92",
   "metadata": {},
   "outputs": [],
   "source": []
  }
 ],
 "metadata": {
  "kernelspec": {
   "display_name": "Python 3",
   "language": "python",
   "name": "python3"
  },
  "language_info": {
   "codemirror_mode": {
    "name": "ipython",
    "version": 3
   },
   "file_extension": ".py",
   "mimetype": "text/x-python",
   "name": "python",
   "nbconvert_exporter": "python",
   "pygments_lexer": "ipython3",
   "version": "3.7.9"
  }
 },
 "nbformat": 4,
 "nbformat_minor": 5
}
