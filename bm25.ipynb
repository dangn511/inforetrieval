{
 "cells": [
  {
   "cell_type": "code",
   "execution_count": 11,
   "id": "7806dbb1",
   "metadata": {},
   "outputs": [],
   "source": [
    "import pickle, json\n",
    "\n",
    "with open('master_list_8k_cleaned.json', 'r') as fp:\n",
    "    master_list = json.load(fp)\n",
    "    \n",
    "job_desc_docs = []\n",
    "for i in master_list:\n",
    "    job_desc_docs.append(master_list[i]['job_description'])\n",
    "    \n",
    "with open('job_desc_raw.pickle', 'wb') as handle:\n",
    "    pickle.dump(job_desc_docs, handle, protocol=pickle.HIGHEST_PROTOCOL)"
   ]
  },
  {
   "cell_type": "code",
   "execution_count": 12,
   "id": "451ff646",
   "metadata": {},
   "outputs": [
    {
     "name": "stdout",
     "output_type": "stream",
     "text": [
      "962\n"
     ]
    }
   ],
   "source": [
    "import pandas as pd\n",
    "resume_raw = pd.read_csv('UpdatedResumeDataSet.csv')\n",
    "resume_list = []\n",
    "\n",
    "for resume in resume_raw['Resume']:\n",
    "    resume_list.append(resume)\n",
    "    \n",
    "print(len(resume_list))\n",
    "    \n",
    "with open('resume_list_raw.pickle', 'wb') as handle:\n",
    "    pickle.dump(resume_list, handle, protocol=pickle.HIGHEST_PROTOCOL)\n"
   ]
  },
  {
   "cell_type": "code",
   "execution_count": 21,
   "id": "7f564c09",
   "metadata": {},
   "outputs": [
    {
     "name": "stdout",
     "output_type": "stream",
     "text": [
      "Dictionary(67270 unique tokens: ['(as', '(electronic', '(letters,', '/', 'Accountabilities']...)\n",
      "[(49, 1), (110, 2), (120, 1), (146, 2), (214, 4), (334, 1), (404, 1), (433, 1), (493, 2), (623, 1), (837, 1), (925, 2), (1360, 2), (1644, 1), (1648, 1), (1674, 1), (2048, 1), (2719, 1), (3215, 1), (3316, 1), (3538, 2), (4075, 2), (4260, 9), (5095, 1), (5217, 6), (6333, 1), (6462, 1), (7595, 1), (7796, 1), (9124, 4), (10137, 3), (10770, 1), (10824, 1), (11424, 1), (12070, 1), (14577, 1), (17115, 1), (20648, 1), (22496, 1), (23431, 2), (25203, 1), (25367, 3), (29601, 1), (30310, 1), (37658, 1), (39083, 2), (41169, 1), (46577, 1), (56264, 1), (58452, 1)]\n",
      "[1865, 2576, 1497, 4003, 473, 4728, 6218, 387, 5605, 6366, 3262, 3568, 6141, 5289, 4984, 474, 2514, 5434, 6602, 6636]\n"
     ]
    }
   ],
   "source": [
    "from gensim import corpora\n",
    "from gensim.summarization import bm25\n",
    "\n",
    "texts = [doc.split() for doc in job_desc_docs] # you can do preprocessing as removing stopwords\n",
    "# print(texts[0])\n",
    "dictionary = corpora.Dictionary(texts)\n",
    "print(dictionary)\n",
    "corpus = [dictionary.doc2bow(text) for text in texts]\n",
    "bm25_obj = bm25.BM25(corpus)\n",
    "# query_doc = dictionary.doc2bow(query.split())\n",
    "query_doc = dictionary.doc2bow(resume_list[99].split())\n",
    "print(query_doc)\n",
    "scores = bm25_obj.get_scores(query_doc)\n",
    "best_docs = sorted(range(len(scores)), key=lambda i: scores[i])[-20:]\n",
    "\n",
    "print(best_docs)"
   ]
  },
  {
   "cell_type": "code",
   "execution_count": null,
   "id": "10c1af9f",
   "metadata": {},
   "outputs": [],
   "source": []
  }
 ],
 "metadata": {
  "kernelspec": {
   "display_name": "Python 3",
   "language": "python",
   "name": "python3"
  },
  "language_info": {
   "codemirror_mode": {
    "name": "ipython",
    "version": 3
   },
   "file_extension": ".py",
   "mimetype": "text/x-python",
   "name": "python",
   "nbconvert_exporter": "python",
   "pygments_lexer": "ipython3",
   "version": "3.7.9"
  }
 },
 "nbformat": 4,
 "nbformat_minor": 5
}
